{
  "nbformat": 4,
  "nbformat_minor": 0,
  "metadata": {
    "colab": {
      "name": "Generate Data",
      "provenance": [],
      "collapsed_sections": [],
      "authorship_tag": "ABX9TyOSHscHMv6ctG4Os66iLqLm",
      "include_colab_link": true
    },
    "kernelspec": {
      "name": "python3",
      "display_name": "Python 3"
    }
  },
  "cells": [
    {
      "cell_type": "markdown",
      "metadata": {
        "id": "view-in-github",
        "colab_type": "text"
      },
      "source": [
        "<a href=\"https://colab.research.google.com/github/parthbhide/Support-Genie-Python-Developer-Intern/blob/master/Generate_Data.ipynb\" target=\"_parent\"><img src=\"https://colab.research.google.com/assets/colab-badge.svg\" alt=\"Open In Colab\"/></a>"
      ]
    },
    {
      "cell_type": "markdown",
      "metadata": {
        "id": "jrFe-P66lvs8",
        "colab_type": "text"
      },
      "source": [
        "**Perameters and Definations**\n",
        "\n",
        "*   start_time : Time at which issue was opened\n",
        "*   answer_time : Time at which issue was allocated to agent\n",
        "*   resolved_time : Time at which issue was resolved\n",
        "*   status : Issue is resolved or abandoned ( 1 if resolved, 0 otherwise )\n",
        "*   delay : answer_time - start_time ie. time elapsed to allocate an issue to agent\n",
        "\n",
        "\n",
        "\n",
        "\n",
        "\n",
        "\n"
      ]
    },
    {
      "cell_type": "code",
      "metadata": {
        "id": "li8tw94JftaR",
        "colab_type": "code",
        "colab": {}
      },
      "source": [
        "import datetime\n",
        "import random"
      ],
      "execution_count": null,
      "outputs": []
    },
    {
      "cell_type": "code",
      "metadata": {
        "id": "gB8LqHuXfzJi",
        "colab_type": "code",
        "colab": {}
      },
      "source": [
        "base = datetime.datetime.today()-datetime.timedelta(days=100)\n",
        "start_time = [(base - datetime.timedelta(days=x)).date() for x in range(1000)]\n",
        "\n",
        "#Here delay is taken as random number, in real implementation it can be calculated as (answer_time - start_time)\n",
        "delay = [random.randint(0,4) for x in range(1000)]\n",
        "answer_time = [ s + datetime.timedelta(d) for s,d in zip(start_time,delay)]\n",
        "status = [random.randint(0,1) for x in range(1000)]\n",
        "\n",
        "#Resolve_delay here is taken as random number to genrate resolved_time, it is not involved in our dataset\n",
        "resolve_delay = [ random.randint(0,2) for x in range(1000)]\n",
        "resolved_time = [ a + datetime.timedelta(d) for a,d in zip(answer_time,resolve_delay)]"
      ],
      "execution_count": null,
      "outputs": []
    },
    {
      "cell_type": "code",
      "metadata": {
        "id": "59ZzST7Ri54L",
        "colab_type": "code",
        "colab": {
          "base_uri": "https://localhost:8080/",
          "height": 204
        },
        "outputId": "bee861d6-00f9-4b88-9995-2e7a0471b4c2"
      },
      "source": [
        "import pandas as pd\n",
        "\n",
        "df = pd.DataFrame()\n",
        "df['start_time'] = start_time\n",
        "df['answer_time'] = answer_time\n",
        "df['resolved_time'] = resolved_time\n",
        "df['delay'] = delay\n",
        "df['status'] = status\n",
        "df.head()"
      ],
      "execution_count": null,
      "outputs": [
        {
          "output_type": "execute_result",
          "data": {
            "text/html": [
              "<div>\n",
              "<style scoped>\n",
              "    .dataframe tbody tr th:only-of-type {\n",
              "        vertical-align: middle;\n",
              "    }\n",
              "\n",
              "    .dataframe tbody tr th {\n",
              "        vertical-align: top;\n",
              "    }\n",
              "\n",
              "    .dataframe thead th {\n",
              "        text-align: right;\n",
              "    }\n",
              "</style>\n",
              "<table border=\"1\" class=\"dataframe\">\n",
              "  <thead>\n",
              "    <tr style=\"text-align: right;\">\n",
              "      <th></th>\n",
              "      <th>start_time</th>\n",
              "      <th>answer_time</th>\n",
              "      <th>resolved_time</th>\n",
              "      <th>delay</th>\n",
              "      <th>status</th>\n",
              "    </tr>\n",
              "  </thead>\n",
              "  <tbody>\n",
              "    <tr>\n",
              "      <th>0</th>\n",
              "      <td>2020-03-15</td>\n",
              "      <td>2020-03-18</td>\n",
              "      <td>2020-03-19</td>\n",
              "      <td>3</td>\n",
              "      <td>1</td>\n",
              "    </tr>\n",
              "    <tr>\n",
              "      <th>1</th>\n",
              "      <td>2020-03-14</td>\n",
              "      <td>2020-03-15</td>\n",
              "      <td>2020-03-17</td>\n",
              "      <td>1</td>\n",
              "      <td>0</td>\n",
              "    </tr>\n",
              "    <tr>\n",
              "      <th>2</th>\n",
              "      <td>2020-03-13</td>\n",
              "      <td>2020-03-14</td>\n",
              "      <td>2020-03-15</td>\n",
              "      <td>1</td>\n",
              "      <td>1</td>\n",
              "    </tr>\n",
              "    <tr>\n",
              "      <th>3</th>\n",
              "      <td>2020-03-12</td>\n",
              "      <td>2020-03-14</td>\n",
              "      <td>2020-03-16</td>\n",
              "      <td>2</td>\n",
              "      <td>0</td>\n",
              "    </tr>\n",
              "    <tr>\n",
              "      <th>4</th>\n",
              "      <td>2020-03-11</td>\n",
              "      <td>2020-03-13</td>\n",
              "      <td>2020-03-15</td>\n",
              "      <td>2</td>\n",
              "      <td>1</td>\n",
              "    </tr>\n",
              "  </tbody>\n",
              "</table>\n",
              "</div>"
            ],
            "text/plain": [
              "   start_time answer_time resolved_time  delay  status\n",
              "0  2020-03-15  2020-03-18    2020-03-19      3       1\n",
              "1  2020-03-14  2020-03-15    2020-03-17      1       0\n",
              "2  2020-03-13  2020-03-14    2020-03-15      1       1\n",
              "3  2020-03-12  2020-03-14    2020-03-16      2       0\n",
              "4  2020-03-11  2020-03-13    2020-03-15      2       1"
            ]
          },
          "metadata": {
            "tags": []
          },
          "execution_count": 3
        }
      ]
    },
    {
      "cell_type": "code",
      "metadata": {
        "id": "azqIfsqvjOR_",
        "colab_type": "code",
        "colab": {}
      },
      "source": [
        "df.to_csv('data.csv')"
      ],
      "execution_count": null,
      "outputs": []
    },
    {
      "cell_type": "markdown",
      "metadata": {
        "id": "UWmVPyaOnxGU",
        "colab_type": "text"
      },
      "source": [
        "**Leftover Work ( Here we are doing is using spreadsheet ):**\n",
        "\n",
        "For abandoned_time, here we are copying some random values form resolved_time to abandoned_time. Since the issue was abandoned, it was never allocated to an agent hence answer_time will be empty.\n",
        "The delay in such cases will be calculated as abandoned_time - start_time)"
      ]
    },
    {
      "cell_type": "code",
      "metadata": {
        "id": "HRPZZPuMrCL7",
        "colab_type": "code",
        "colab": {
          "base_uri": "https://localhost:8080/",
          "height": 204
        },
        "outputId": "7c04cf82-1657-432d-9e60-70009460775d"
      },
      "source": [
        "#Data after doing Leftover work \n",
        "df = pd.read_csv('data.csv')\n",
        "df.head()"
      ],
      "execution_count": null,
      "outputs": [
        {
          "output_type": "execute_result",
          "data": {
            "text/html": [
              "<div>\n",
              "<style scoped>\n",
              "    .dataframe tbody tr th:only-of-type {\n",
              "        vertical-align: middle;\n",
              "    }\n",
              "\n",
              "    .dataframe tbody tr th {\n",
              "        vertical-align: top;\n",
              "    }\n",
              "\n",
              "    .dataframe thead th {\n",
              "        text-align: right;\n",
              "    }\n",
              "</style>\n",
              "<table border=\"1\" class=\"dataframe\">\n",
              "  <thead>\n",
              "    <tr style=\"text-align: right;\">\n",
              "      <th></th>\n",
              "      <th>Unnamed: 0</th>\n",
              "      <th>start_time</th>\n",
              "      <th>answer_time</th>\n",
              "      <th>resolved_time</th>\n",
              "      <th>delay</th>\n",
              "      <th>status</th>\n",
              "    </tr>\n",
              "  </thead>\n",
              "  <tbody>\n",
              "    <tr>\n",
              "      <th>0</th>\n",
              "      <td>0</td>\n",
              "      <td>2020-03-15</td>\n",
              "      <td>2020-03-18</td>\n",
              "      <td>2020-03-19</td>\n",
              "      <td>3</td>\n",
              "      <td>1</td>\n",
              "    </tr>\n",
              "    <tr>\n",
              "      <th>1</th>\n",
              "      <td>1</td>\n",
              "      <td>2020-03-14</td>\n",
              "      <td>2020-03-15</td>\n",
              "      <td>2020-03-17</td>\n",
              "      <td>1</td>\n",
              "      <td>0</td>\n",
              "    </tr>\n",
              "    <tr>\n",
              "      <th>2</th>\n",
              "      <td>2</td>\n",
              "      <td>2020-03-13</td>\n",
              "      <td>2020-03-14</td>\n",
              "      <td>2020-03-15</td>\n",
              "      <td>1</td>\n",
              "      <td>1</td>\n",
              "    </tr>\n",
              "    <tr>\n",
              "      <th>3</th>\n",
              "      <td>3</td>\n",
              "      <td>2020-03-12</td>\n",
              "      <td>2020-03-14</td>\n",
              "      <td>2020-03-16</td>\n",
              "      <td>2</td>\n",
              "      <td>0</td>\n",
              "    </tr>\n",
              "    <tr>\n",
              "      <th>4</th>\n",
              "      <td>4</td>\n",
              "      <td>2020-03-11</td>\n",
              "      <td>2020-03-13</td>\n",
              "      <td>2020-03-15</td>\n",
              "      <td>2</td>\n",
              "      <td>1</td>\n",
              "    </tr>\n",
              "  </tbody>\n",
              "</table>\n",
              "</div>"
            ],
            "text/plain": [
              "   Unnamed: 0  start_time answer_time resolved_time  delay  status\n",
              "0           0  2020-03-15  2020-03-18    2020-03-19      3       1\n",
              "1           1  2020-03-14  2020-03-15    2020-03-17      1       0\n",
              "2           2  2020-03-13  2020-03-14    2020-03-15      1       1\n",
              "3           3  2020-03-12  2020-03-14    2020-03-16      2       0\n",
              "4           4  2020-03-11  2020-03-13    2020-03-15      2       1"
            ]
          },
          "metadata": {
            "tags": []
          },
          "execution_count": 5
        }
      ]
    }
  ]
}