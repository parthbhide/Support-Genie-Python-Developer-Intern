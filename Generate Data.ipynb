{
  "nbformat": 4,
  "nbformat_minor": 0,
  "metadata": {
    "colab": {
      "name": "Untitled",
      "provenance": [],
      "collapsed_sections": [],
      "authorship_tag": "ABX9TyMJCGz7k9jDdTbv0bYeMTyl",
      "include_colab_link": true
    },
    "kernelspec": {
      "name": "python3",
      "display_name": "Python 3"
    }
  },
  "cells": [
    {
      "cell_type": "markdown",
      "metadata": {
        "id": "view-in-github",
        "colab_type": "text"
      },
      "source": [
        "<a href=\"https://colab.research.google.com/github/parthbhide/Support-Genie-Python-Developer-Intern/blob/master/Generate%20Data.ipynb\" target=\"_parent\"><img src=\"https://colab.research.google.com/assets/colab-badge.svg\" alt=\"Open In Colab\"/></a>"
      ]
    },
    {
      "cell_type": "code",
      "metadata": {
        "id": "li8tw94JftaR",
        "colab_type": "code",
        "colab": {}
      },
      "source": [
        "import datetime\n",
        "import random"
      ],
      "execution_count": 2,
      "outputs": []
    },
    {
      "cell_type": "code",
      "metadata": {
        "id": "gB8LqHuXfzJi",
        "colab_type": "code",
        "colab": {}
      },
      "source": [
        "base = datetime.datetime.today()\n",
        "start_time = [(base - datetime.timedelta(days=x)).date() for x in range(1000)]\n",
        "delay = [random.randint(0,10) for x in range(1000)]\n",
        "answer_time = [ s + datetime.timedelta(d) for s,d in zip(start_time,delay)]\n",
        "status = [random.randint(0,1) for x in range(1000)]\n",
        "resolve_delay = [ random.randint(0,3) for x in range(1000)]\n",
        "resolved_time = [ a + datetime.timedelta(d) for a,d in zip(answer_time,resolve_delay)]"
      ],
      "execution_count": 3,
      "outputs": []
    },
    {
      "cell_type": "code",
      "metadata": {
        "id": "59ZzST7Ri54L",
        "colab_type": "code",
        "colab": {
          "base_uri": "https://localhost:8080/",
          "height": 204
        },
        "outputId": "4e26ae13-91a1-43e6-84a8-6485cfaf26de"
      },
      "source": [
        "import pandas as pd\n",
        "\n",
        "df = pd.DataFrame()\n",
        "df['start_time'] = start_time\n",
        "df['answer_time'] = answer_time\n",
        "df['resolved_time'] = resolved_time\n",
        "df['delay'] = delay\n",
        "df['status'] = status\n",
        "df.head()"
      ],
      "execution_count": 6,
      "outputs": [
        {
          "output_type": "execute_result",
          "data": {
            "text/html": [
              "<div>\n",
              "<style scoped>\n",
              "    .dataframe tbody tr th:only-of-type {\n",
              "        vertical-align: middle;\n",
              "    }\n",
              "\n",
              "    .dataframe tbody tr th {\n",
              "        vertical-align: top;\n",
              "    }\n",
              "\n",
              "    .dataframe thead th {\n",
              "        text-align: right;\n",
              "    }\n",
              "</style>\n",
              "<table border=\"1\" class=\"dataframe\">\n",
              "  <thead>\n",
              "    <tr style=\"text-align: right;\">\n",
              "      <th></th>\n",
              "      <th>start_time</th>\n",
              "      <th>answer_time</th>\n",
              "      <th>resolved_time</th>\n",
              "      <th>delay</th>\n",
              "      <th>status</th>\n",
              "    </tr>\n",
              "  </thead>\n",
              "  <tbody>\n",
              "    <tr>\n",
              "      <th>0</th>\n",
              "      <td>2020-06-23</td>\n",
              "      <td>2020-06-30</td>\n",
              "      <td>2020-07-01</td>\n",
              "      <td>7</td>\n",
              "      <td>1</td>\n",
              "    </tr>\n",
              "    <tr>\n",
              "      <th>1</th>\n",
              "      <td>2020-06-22</td>\n",
              "      <td>2020-06-26</td>\n",
              "      <td>2020-06-26</td>\n",
              "      <td>4</td>\n",
              "      <td>1</td>\n",
              "    </tr>\n",
              "    <tr>\n",
              "      <th>2</th>\n",
              "      <td>2020-06-21</td>\n",
              "      <td>2020-06-24</td>\n",
              "      <td>2020-06-26</td>\n",
              "      <td>3</td>\n",
              "      <td>1</td>\n",
              "    </tr>\n",
              "    <tr>\n",
              "      <th>3</th>\n",
              "      <td>2020-06-20</td>\n",
              "      <td>2020-06-25</td>\n",
              "      <td>2020-06-27</td>\n",
              "      <td>5</td>\n",
              "      <td>0</td>\n",
              "    </tr>\n",
              "    <tr>\n",
              "      <th>4</th>\n",
              "      <td>2020-06-19</td>\n",
              "      <td>2020-06-24</td>\n",
              "      <td>2020-06-27</td>\n",
              "      <td>5</td>\n",
              "      <td>1</td>\n",
              "    </tr>\n",
              "  </tbody>\n",
              "</table>\n",
              "</div>"
            ],
            "text/plain": [
              "   start_time answer_time resolved_time  delay  status\n",
              "0  2020-06-23  2020-06-30    2020-07-01      7       1\n",
              "1  2020-06-22  2020-06-26    2020-06-26      4       1\n",
              "2  2020-06-21  2020-06-24    2020-06-26      3       1\n",
              "3  2020-06-20  2020-06-25    2020-06-27      5       0\n",
              "4  2020-06-19  2020-06-24    2020-06-27      5       1"
            ]
          },
          "metadata": {
            "tags": []
          },
          "execution_count": 6
        }
      ]
    },
    {
      "cell_type": "code",
      "metadata": {
        "id": "azqIfsqvjOR_",
        "colab_type": "code",
        "colab": {}
      },
      "source": [
        "df.to_csv('data.csv')"
      ],
      "execution_count": 7,
      "outputs": []
    },
    {
      "cell_type": "code",
      "metadata": {
        "id": "uot5dc2IjcRj",
        "colab_type": "code",
        "colab": {}
      },
      "source": [
        ""
      ],
      "execution_count": null,
      "outputs": []
    }
  ]
}