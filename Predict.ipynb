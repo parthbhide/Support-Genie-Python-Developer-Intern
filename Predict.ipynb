{
  "nbformat": 4,
  "nbformat_minor": 0,
  "metadata": {
    "colab": {
      "name": "Predict .ipynb",
      "provenance": [],
      "collapsed_sections": [],
      "authorship_tag": "ABX9TyM2HsKwKuzKipcnL/6X5bDo",
      "include_colab_link": true
    },
    "kernelspec": {
      "name": "python3",
      "display_name": "Python 3"
    }
  },
  "cells": [
    {
      "cell_type": "markdown",
      "metadata": {
        "id": "view-in-github",
        "colab_type": "text"
      },
      "source": [
        "<a href=\"https://colab.research.google.com/github/parthbhide/Support-Genie-Python-Developer-Intern/blob/master/Predict.ipynb\" target=\"_parent\"><img src=\"https://colab.research.google.com/assets/colab-badge.svg\" alt=\"Open In Colab\"/></a>"
      ]
    },
    {
      "cell_type": "code",
      "metadata": {
        "id": "Nnm-ekyMpMUx",
        "colab_type": "code",
        "colab": {
          "base_uri": "https://localhost:8080/",
          "height": 204
        },
        "outputId": "5ea1f2d7-cc24-432c-f735-e149512dfb90"
      },
      "source": [
        "#Read Generated Data\n",
        "import pandas as pd\n",
        "\n",
        "df = pd.read_csv('data.csv')\n",
        "df.head()"
      ],
      "execution_count": 35,
      "outputs": [
        {
          "output_type": "execute_result",
          "data": {
            "text/html": [
              "<div>\n",
              "<style scoped>\n",
              "    .dataframe tbody tr th:only-of-type {\n",
              "        vertical-align: middle;\n",
              "    }\n",
              "\n",
              "    .dataframe tbody tr th {\n",
              "        vertical-align: top;\n",
              "    }\n",
              "\n",
              "    .dataframe thead th {\n",
              "        text-align: right;\n",
              "    }\n",
              "</style>\n",
              "<table border=\"1\" class=\"dataframe\">\n",
              "  <thead>\n",
              "    <tr style=\"text-align: right;\">\n",
              "      <th></th>\n",
              "      <th>start_time</th>\n",
              "      <th>answer_time</th>\n",
              "      <th>resolved_time</th>\n",
              "      <th>abandoned_time</th>\n",
              "      <th>delay</th>\n",
              "      <th>status</th>\n",
              "    </tr>\n",
              "  </thead>\n",
              "  <tbody>\n",
              "    <tr>\n",
              "      <th>0</th>\n",
              "      <td>15/03/2020</td>\n",
              "      <td>18/03/2020</td>\n",
              "      <td>19/03/2020</td>\n",
              "      <td>NaN</td>\n",
              "      <td>3</td>\n",
              "      <td>1</td>\n",
              "    </tr>\n",
              "    <tr>\n",
              "      <th>1</th>\n",
              "      <td>14/03/2020</td>\n",
              "      <td>NaN</td>\n",
              "      <td>NaN</td>\n",
              "      <td>15/03/2020</td>\n",
              "      <td>1</td>\n",
              "      <td>0</td>\n",
              "    </tr>\n",
              "    <tr>\n",
              "      <th>2</th>\n",
              "      <td>13/03/2020</td>\n",
              "      <td>14/03/2020</td>\n",
              "      <td>15/03/2020</td>\n",
              "      <td>NaN</td>\n",
              "      <td>1</td>\n",
              "      <td>1</td>\n",
              "    </tr>\n",
              "    <tr>\n",
              "      <th>3</th>\n",
              "      <td>12/03/2020</td>\n",
              "      <td>NaN</td>\n",
              "      <td>NaN</td>\n",
              "      <td>14/03/2020</td>\n",
              "      <td>2</td>\n",
              "      <td>0</td>\n",
              "    </tr>\n",
              "    <tr>\n",
              "      <th>4</th>\n",
              "      <td>11/03/2020</td>\n",
              "      <td>13/03/2020</td>\n",
              "      <td>15/03/2020</td>\n",
              "      <td>NaN</td>\n",
              "      <td>2</td>\n",
              "      <td>1</td>\n",
              "    </tr>\n",
              "  </tbody>\n",
              "</table>\n",
              "</div>"
            ],
            "text/plain": [
              "   start_time answer_time resolved_time abandoned_time  delay  status\n",
              "0  15/03/2020  18/03/2020    19/03/2020            NaN      3       1\n",
              "1  14/03/2020         NaN           NaN     15/03/2020      1       0\n",
              "2  13/03/2020  14/03/2020    15/03/2020            NaN      1       1\n",
              "3  12/03/2020         NaN           NaN     14/03/2020      2       0\n",
              "4  11/03/2020  13/03/2020    15/03/2020            NaN      2       1"
            ]
          },
          "metadata": {
            "tags": []
          },
          "execution_count": 35
        }
      ]
    },
    {
      "cell_type": "code",
      "metadata": {
        "id": "9DpH7Mp0pUbQ",
        "colab_type": "code",
        "colab": {}
      },
      "source": [
        "#Converting start_time to datatime and replacing NaN with 0\n",
        "\n",
        "df['start_time'] = pd.to_datetime(df['start_time'])\n",
        "df = df.fillna(0)"
      ],
      "execution_count": 36,
      "outputs": []
    },
    {
      "cell_type": "code",
      "metadata": {
        "id": "wJ2PlnJ2yZXW",
        "colab_type": "code",
        "colab": {}
      },
      "source": [
        "def get_quater(dates):\n",
        "  quater = []\n",
        "  for x in dates:\n",
        "    if x.month >= 1 and x.month <= 3:\n",
        "      quater.append(1)\n",
        "    if x.month >= 4 and x.month <= 6:\n",
        "      quater.append(2)\n",
        "    if x.month >= 7 and x.month <= 9:\n",
        "      quater.append(3)\n",
        "    if x.month >= 10 and x.month <= 12:\n",
        "      quater.append(4)\n",
        "      \n",
        "  return quater"
      ],
      "execution_count": 37,
      "outputs": []
    },
    {
      "cell_type": "markdown",
      "metadata": {
        "id": "U1-kFGlXt9wK",
        "colab_type": "text"
      },
      "source": [
        "**Delay** can depend on many factors such as weekday on which issue was raised, month, financial quater in which issue was raised, location where issue was raised, type of issue raised and so on.\n",
        "\n",
        "We are here extracting from the available information."
      ]
    },
    {
      "cell_type": "code",
      "metadata": {
        "id": "7CBpvKZ1paWt",
        "colab_type": "code",
        "colab": {
          "base_uri": "https://localhost:8080/",
          "height": 204
        },
        "outputId": "23add32b-f31e-487c-dbed-c6360186e153"
      },
      "source": [
        "quater = get_quater(df['start_time'])\n",
        "# for x in df['start_time']:\n",
        "#   if x.month >= 1 and x.month <= 3:\n",
        "#     quater.append(1)\n",
        "#   if x.month >= 4 and x.month <= 6:\n",
        "#     quater.append(2)\n",
        "#   if x.month >= 7 and x.month <= 9:\n",
        "#     quater.append(3)\n",
        "#   if x.month >= 10 and x.month <= 12:\n",
        "#     quater.append(4)\n",
        "\n",
        "df['day'] = [x.day for x in df['start_time']]\n",
        "df['month'] = [x.month for x in df['start_time']]\n",
        "df['weekday'] = [x.weekday() for x in df['start_time'] ]\n",
        "df['year'] = [x.year for x in df['start_time']]\n",
        "df['quater'] = quater\n",
        "\n",
        "#Shuffle columns\n",
        "df = df[['start_time','answer_time','resolved_time','abandoned_time','status','day','month','year','weekday','quater','delay']]\n",
        "df.head()"
      ],
      "execution_count": 65,
      "outputs": [
        {
          "output_type": "execute_result",
          "data": {
            "text/html": [
              "<div>\n",
              "<style scoped>\n",
              "    .dataframe tbody tr th:only-of-type {\n",
              "        vertical-align: middle;\n",
              "    }\n",
              "\n",
              "    .dataframe tbody tr th {\n",
              "        vertical-align: top;\n",
              "    }\n",
              "\n",
              "    .dataframe thead th {\n",
              "        text-align: right;\n",
              "    }\n",
              "</style>\n",
              "<table border=\"1\" class=\"dataframe\">\n",
              "  <thead>\n",
              "    <tr style=\"text-align: right;\">\n",
              "      <th></th>\n",
              "      <th>start_time</th>\n",
              "      <th>answer_time</th>\n",
              "      <th>resolved_time</th>\n",
              "      <th>abandoned_time</th>\n",
              "      <th>status</th>\n",
              "      <th>day</th>\n",
              "      <th>month</th>\n",
              "      <th>year</th>\n",
              "      <th>weekday</th>\n",
              "      <th>quater</th>\n",
              "      <th>delay</th>\n",
              "    </tr>\n",
              "  </thead>\n",
              "  <tbody>\n",
              "    <tr>\n",
              "      <th>0</th>\n",
              "      <td>2020-03-15</td>\n",
              "      <td>18/03/2020</td>\n",
              "      <td>19/03/2020</td>\n",
              "      <td>0</td>\n",
              "      <td>1</td>\n",
              "      <td>15</td>\n",
              "      <td>3</td>\n",
              "      <td>2020</td>\n",
              "      <td>6</td>\n",
              "      <td>1</td>\n",
              "      <td>3</td>\n",
              "    </tr>\n",
              "    <tr>\n",
              "      <th>1</th>\n",
              "      <td>2020-03-14</td>\n",
              "      <td>0</td>\n",
              "      <td>0</td>\n",
              "      <td>15/03/2020</td>\n",
              "      <td>0</td>\n",
              "      <td>14</td>\n",
              "      <td>3</td>\n",
              "      <td>2020</td>\n",
              "      <td>5</td>\n",
              "      <td>1</td>\n",
              "      <td>1</td>\n",
              "    </tr>\n",
              "    <tr>\n",
              "      <th>2</th>\n",
              "      <td>2020-03-13</td>\n",
              "      <td>14/03/2020</td>\n",
              "      <td>15/03/2020</td>\n",
              "      <td>0</td>\n",
              "      <td>1</td>\n",
              "      <td>13</td>\n",
              "      <td>3</td>\n",
              "      <td>2020</td>\n",
              "      <td>4</td>\n",
              "      <td>1</td>\n",
              "      <td>1</td>\n",
              "    </tr>\n",
              "    <tr>\n",
              "      <th>3</th>\n",
              "      <td>2020-12-03</td>\n",
              "      <td>0</td>\n",
              "      <td>0</td>\n",
              "      <td>14/03/2020</td>\n",
              "      <td>0</td>\n",
              "      <td>3</td>\n",
              "      <td>12</td>\n",
              "      <td>2020</td>\n",
              "      <td>3</td>\n",
              "      <td>4</td>\n",
              "      <td>2</td>\n",
              "    </tr>\n",
              "    <tr>\n",
              "      <th>4</th>\n",
              "      <td>2020-11-03</td>\n",
              "      <td>13/03/2020</td>\n",
              "      <td>15/03/2020</td>\n",
              "      <td>0</td>\n",
              "      <td>1</td>\n",
              "      <td>3</td>\n",
              "      <td>11</td>\n",
              "      <td>2020</td>\n",
              "      <td>1</td>\n",
              "      <td>4</td>\n",
              "      <td>2</td>\n",
              "    </tr>\n",
              "  </tbody>\n",
              "</table>\n",
              "</div>"
            ],
            "text/plain": [
              "  start_time answer_time resolved_time  ... weekday  quater  delay\n",
              "0 2020-03-15  18/03/2020    19/03/2020  ...       6       1      3\n",
              "1 2020-03-14           0             0  ...       5       1      1\n",
              "2 2020-03-13  14/03/2020    15/03/2020  ...       4       1      1\n",
              "3 2020-12-03           0             0  ...       3       4      2\n",
              "4 2020-11-03  13/03/2020    15/03/2020  ...       1       4      2\n",
              "\n",
              "[5 rows x 11 columns]"
            ]
          },
          "metadata": {
            "tags": []
          },
          "execution_count": 65
        }
      ]
    },
    {
      "cell_type": "code",
      "metadata": {
        "id": "kjE_QeCVqfYv",
        "colab_type": "code",
        "colab": {
          "base_uri": "https://localhost:8080/",
          "height": 204
        },
        "outputId": "65cd3a77-683b-49e8-bcf4-f2956980955e"
      },
      "source": [
        "#Copying the required data into a new dataframe\n",
        "\n",
        "train_df = df[['day','month','year','weekday','quater','delay']]\n",
        "train_df.reset_index(drop=True, inplace =True)\n",
        "train_df.head()"
      ],
      "execution_count": 66,
      "outputs": [
        {
          "output_type": "execute_result",
          "data": {
            "text/html": [
              "<div>\n",
              "<style scoped>\n",
              "    .dataframe tbody tr th:only-of-type {\n",
              "        vertical-align: middle;\n",
              "    }\n",
              "\n",
              "    .dataframe tbody tr th {\n",
              "        vertical-align: top;\n",
              "    }\n",
              "\n",
              "    .dataframe thead th {\n",
              "        text-align: right;\n",
              "    }\n",
              "</style>\n",
              "<table border=\"1\" class=\"dataframe\">\n",
              "  <thead>\n",
              "    <tr style=\"text-align: right;\">\n",
              "      <th></th>\n",
              "      <th>day</th>\n",
              "      <th>month</th>\n",
              "      <th>year</th>\n",
              "      <th>weekday</th>\n",
              "      <th>quater</th>\n",
              "      <th>delay</th>\n",
              "    </tr>\n",
              "  </thead>\n",
              "  <tbody>\n",
              "    <tr>\n",
              "      <th>0</th>\n",
              "      <td>15</td>\n",
              "      <td>3</td>\n",
              "      <td>2020</td>\n",
              "      <td>6</td>\n",
              "      <td>1</td>\n",
              "      <td>3</td>\n",
              "    </tr>\n",
              "    <tr>\n",
              "      <th>1</th>\n",
              "      <td>14</td>\n",
              "      <td>3</td>\n",
              "      <td>2020</td>\n",
              "      <td>5</td>\n",
              "      <td>1</td>\n",
              "      <td>1</td>\n",
              "    </tr>\n",
              "    <tr>\n",
              "      <th>2</th>\n",
              "      <td>13</td>\n",
              "      <td>3</td>\n",
              "      <td>2020</td>\n",
              "      <td>4</td>\n",
              "      <td>1</td>\n",
              "      <td>1</td>\n",
              "    </tr>\n",
              "    <tr>\n",
              "      <th>3</th>\n",
              "      <td>3</td>\n",
              "      <td>12</td>\n",
              "      <td>2020</td>\n",
              "      <td>3</td>\n",
              "      <td>4</td>\n",
              "      <td>2</td>\n",
              "    </tr>\n",
              "    <tr>\n",
              "      <th>4</th>\n",
              "      <td>3</td>\n",
              "      <td>11</td>\n",
              "      <td>2020</td>\n",
              "      <td>1</td>\n",
              "      <td>4</td>\n",
              "      <td>2</td>\n",
              "    </tr>\n",
              "  </tbody>\n",
              "</table>\n",
              "</div>"
            ],
            "text/plain": [
              "   day  month  year  weekday  quater  delay\n",
              "0   15      3  2020        6       1      3\n",
              "1   14      3  2020        5       1      1\n",
              "2   13      3  2020        4       1      1\n",
              "3    3     12  2020        3       4      2\n",
              "4    3     11  2020        1       4      2"
            ]
          },
          "metadata": {
            "tags": []
          },
          "execution_count": 66
        }
      ]
    },
    {
      "cell_type": "code",
      "metadata": {
        "id": "GypK0SFgqnFE",
        "colab_type": "code",
        "colab": {}
      },
      "source": [
        "from sklearn.model_selection import train_test_split\n",
        "from sklearn.ensemble import RandomForestClassifier\n",
        "from sklearn import metrics\n",
        "\n",
        "X = train_df.iloc[:,:-1]\n",
        "y = train_df.iloc[:,-1]\n",
        "X_train, X_test, y_train, y_test = train_test_split( X, y, test_size=0.2, random_state=42)"
      ],
      "execution_count": 67,
      "outputs": []
    },
    {
      "cell_type": "code",
      "metadata": {
        "id": "XmvitjnPrENx",
        "colab_type": "code",
        "colab": {
          "base_uri": "https://localhost:8080/",
          "height": 102
        },
        "outputId": "563eb8f0-1611-4042-d8cb-9920bb5cbfaf"
      },
      "source": [
        "#Predictions using Random Forest Classifier\n",
        "\n",
        "model = RandomForestClassifier(n_estimators=120,criterion='entropy',max_depth=2, random_state=42, max_features = None,verbose=True,min_samples_split=5)\n",
        "model.fit(X_train, y_train)\n",
        "predicted = model.predict(X_test)\n",
        "metrics.accuracy_score(y_test,predicted)"
      ],
      "execution_count": 68,
      "outputs": [
        {
          "output_type": "stream",
          "text": [
            "[Parallel(n_jobs=1)]: Using backend SequentialBackend with 1 concurrent workers.\n",
            "[Parallel(n_jobs=1)]: Done 120 out of 120 | elapsed:    0.1s finished\n",
            "[Parallel(n_jobs=1)]: Using backend SequentialBackend with 1 concurrent workers.\n",
            "[Parallel(n_jobs=1)]: Done 120 out of 120 | elapsed:    0.0s finished\n"
          ],
          "name": "stderr"
        },
        {
          "output_type": "execute_result",
          "data": {
            "text/plain": [
              "0.205"
            ]
          },
          "metadata": {
            "tags": []
          },
          "execution_count": 68
        }
      ]
    },
    {
      "cell_type": "code",
      "metadata": {
        "id": "rFOBfE4q1yvl",
        "colab_type": "code",
        "colab": {}
      },
      "source": [
        "def predict_delay(new_issue_date):\n",
        "  data = pd.DataFrame()\n",
        "  data['day'] = [new_issue_date.day]\n",
        "  data['month'] = [new_issue_date.month]\n",
        "  data['year'] = [new_issue_date.year]\n",
        "  data['weekday'] = new_issue_date.weekday()\n",
        "  data['quater'] = get_quater([new_issue_date])\n",
        "  p = model.predict(data)\n",
        "\n",
        "  return p[0]"
      ],
      "execution_count": 76,
      "outputs": []
    },
    {
      "cell_type": "code",
      "metadata": {
        "id": "XPrkLkbJ2I4Y",
        "colab_type": "code",
        "colab": {
          "base_uri": "https://localhost:8080/",
          "height": 68
        },
        "outputId": "78878415-7a57-4f75-e78a-6cda0d987df4"
      },
      "source": [
        "import datetime\n",
        "\n",
        "issue_date = datetime.datetime.today()\n",
        "\n",
        "f'Approximately, this issue will be assigned to an agent at : { issue_date + datetime.timedelta(int()) }'"
      ],
      "execution_count": 78,
      "outputs": [
        {
          "output_type": "stream",
          "text": [
            "[Parallel(n_jobs=1)]: Using backend SequentialBackend with 1 concurrent workers.\n",
            "[Parallel(n_jobs=1)]: Done 120 out of 120 | elapsed:    0.0s finished\n"
          ],
          "name": "stderr"
        },
        {
          "output_type": "execute_result",
          "data": {
            "text/plain": [
              "'Approximately, this issue will be assigned to an agent at : 2020-06-27 11:08:07.026046'"
            ]
          },
          "metadata": {
            "tags": []
          },
          "execution_count": 78
        }
      ]
    },
    {
      "cell_type": "code",
      "metadata": {
        "id": "oGIvZNK13a75",
        "colab_type": "code",
        "colab": {}
      },
      "source": [
        ""
      ],
      "execution_count": null,
      "outputs": []
    }
  ]
}